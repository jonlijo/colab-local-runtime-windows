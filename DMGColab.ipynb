{
  "nbformat": 4,
  "nbformat_minor": 0,
  "metadata": {
    "colab": {
      "name": "MidasColab",
      "provenance": [],
      "collapsed_sections": [],
      "include_colab_link": true
    },
    "kernelspec": {
      "display_name": "Python 3",
      "name": "python3"
    },
    "accelerator": "GPU"
  },
  "cells": [
    {
      "cell_type": "markdown",
      "metadata": {
        "id": "view-in-github",
        "colab_type": "text"
      },
      "source": [
        "<a href=\"https://colab.research.google.com/github/jonlijo/colab-local-runtime-windows/blob/master/DMGColab.ipynb\" target=\"_parent\"><img src=\"https://colab.research.google.com/assets/colab-badge.svg\" alt=\"Open In Colab\"/></a>"
      ]
    },
    {
      "cell_type": "markdown",
      "metadata": {
        "id": "5fCEDCU_qrC0"
      },
      "source": [
        "<p><img alt=\"Colaboratory logo\" height=\"45px\" src=\"/img/colab_favicon.ico\" align=\"left\" hspace=\"10px\" vspace=\"0px\"></p>\n",
        "\n",
        "<h1>What is Colaboratory?</h1>\n",
        "\n",
        "Colaboratory, or \"Colab\" for short, allows you to write and execute Python in your browser, with \n",
        "- Zero configuration required\n",
        "- Free access to GPUs\n",
        "- Easy sharing\n",
        "\n",
        "Whether you're a **student**, a **data scientist** or an **AI researcher**, Colab can make your work easier. Watch [Introduction to Colab](https://www.youtube.com/watch?v=inN8seMm7UI) to learn more, or just get started below!"
      ]
    },
    {
      "cell_type": "code",
      "metadata": {
        "id": "7hlaMjDLNt4d",
        "colab": {
          "base_uri": "https://localhost:8080/"
        },
        "outputId": "4e006023-d2fc-4943-c282-54084a2362cc"
      },
      "source": [
        "%cd /content/drive/My Drive/MiDaS\n",
        "!python run.py\n"
      ],
      "execution_count": 12,
      "outputs": [
        {
          "output_type": "stream",
          "text": [
            "/content/drive/My Drive/MiDaS\n",
            "initialize\n",
            "device: cuda\n",
            "Loading weights:  model-f6b98070.pt\n",
            "Using cache found in /root/.cache/torch/hub/facebookresearch_WSL-Images_master\n",
            "start processing\n",
            "  processing input/IMG-20200601-WA0012.jpg (1/28)\n",
            "  processing input/IMG-20200601-WA0007.jpg (2/28)\n",
            "  processing input/IMG-20200531-WA0032.jpg (3/28)\n",
            "  processing input/IMG-20200601-WA0001.jpg (4/28)\n",
            "  processing input/IMG-20200531-WA0017.jpg (5/28)\n",
            "  processing input/IMG-20200531-WA0015.jpg (6/28)\n",
            "  processing input/IMG-20200531-WA0036.jpg (7/28)\n",
            "  processing input/IMG-20200531-WA0019.jpg (8/28)\n",
            "  processing input/IMG-20200531-WA0014.jpg (9/28)\n",
            "  processing input/IMG-20200528-WA0003.jpg (10/28)\n",
            "  processing input/IMG-20200528-WA0000.jpg (11/28)\n",
            "  processing input/IMG-20200527-WA0032.jpg (12/28)\n",
            "  processing input/IMG-20200527-WA0028.jpg (13/28)\n",
            "  processing input/IMG-20200527-WA0015.jpg (14/28)\n",
            "  processing input/IMG-20200527-WA0012.jpg (15/28)\n",
            "  processing input/IMG-20200527-WA0010.jpg (16/28)\n",
            "  processing input/IMG-20200527-WA0005.jpg (17/28)\n",
            "  processing input/IMG-20200527-WA0000.jpg (18/28)\n",
            "  processing input/IMG-20200526-WA0027.jpg (19/28)\n",
            "  processing input/IMG-20200526-WA0017.jpg (20/28)\n",
            "  processing input/IMG-20200526-WA0013.jpg (21/28)\n",
            "  processing input/IMG-20200601-WA0040.jpg (22/28)\n",
            "  processing input/IMG-20200602-WA0004.jpg (23/28)\n",
            "  processing input/IMG-20200602-WA0000.jpg (24/28)\n",
            "  processing input/IMG-20200601-WA0037.jpg (25/28)\n",
            "  processing input/IMG-20200601-WA0020.jpg (26/28)\n",
            "  processing input/IMG-20200601-WA0017.jpg (27/28)\n",
            "  processing input/IMG-20200601-WA0016.jpg (28/28)\n",
            "finished\n"
          ],
          "name": "stdout"
        }
      ]
    },
    {
      "cell_type": "code",
      "metadata": {
        "id": "xxkhU3qUy_nr"
      },
      "source": [
        "from google.colab import drive\n",
        "drive.mount('/content/drive')"
      ],
      "execution_count": null,
      "outputs": []
    }
  ]
}